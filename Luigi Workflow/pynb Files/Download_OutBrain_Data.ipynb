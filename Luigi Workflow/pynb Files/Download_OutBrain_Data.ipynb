{
 "cells": [
  {
   "cell_type": "code",
   "execution_count": 1,
   "metadata": {
    "collapsed": true
   },
   "outputs": [],
   "source": [
    "import pandas as pd\n",
    "import os\n",
    "import glob\n",
    "import zipfile as z\n",
    "import requests\n",
    "import io\n",
    "import mechanicalsoup\n",
    "import time"
   ]
  },
  {
   "cell_type": "code",
   "execution_count": 78,
   "metadata": {
    "collapsed": true
   },
   "outputs": [],
   "source": [
    "def download_data():\n",
    "    \n",
    "    folderName = '/DownloadedData'\n",
    "    print(\"Creating the Data Folder after checking if it already is present and if it isnt then create one!\")\n",
    "    curr_dir = os.getcwd()\n",
    "    Data_dir = curr_dir+'/'+folderName\n",
    "    if not os.path.exists(Data_dir):\n",
    "        os.makedirs(Data_dir)\n",
    "    \n",
    "    s = requests.session()\n",
    "    payload = {'username': 'yogitaj508@gmail.com', 'password': 'yogitaj508'}\n",
    "    url = 'https://www.kaggle.com/account/login?ReturnUrl=%2faccount%2fset-username%3freturnUrl%3d%2fc%2foutbrain-click-prediction&returnUrl=/c/outbrain-click-prediction'\n",
    "    a = s.post(url, data=payload)\n",
    "    \n",
    "    clicks_test= 'https://www.kaggle.com/c/outbrain-click-prediction/download/clicks_test.csv.zip'\n",
    "    file1 = s.get(clicks_test)\n",
    "    m1 = z.ZipFile(io.BytesIO(file1.content))\n",
    "    m1.extractall(Data_dir)\n",
    "    \n",
    "    clicks_train= 'https://www.kaggle.com/c/outbrain-click-prediction/download/clicks_train.csv.zip'\n",
    "    file2 = s.get(clicks_train)\n",
    "    m2 = z.ZipFile(io.BytesIO(file2.content))\n",
    "    m2.extractall(Data_dir)\n",
    "\n",
    "    documents_categories= 'https://www.kaggle.com/c/outbrain-click-prediction/download/documents_categories.csv.zip'\n",
    "    file3 = s.get(documents_categories)\n",
    "    m3 = z.ZipFile(io.BytesIO(file3.content))\n",
    "    m3.extractall(Data_dir)\n",
    "\n",
    "    documents_entities= 'https://www.kaggle.com/c/outbrain-click-prediction/download/documents_entities.csv.zip'\n",
    "    file4 = s.get(documents_entities)\n",
    "    m4 = z.ZipFile(io.BytesIO(file4.content))\n",
    "    m4.extractall(Data_dir)\n",
    "\n",
    "    documents_meta= 'https://www.kaggle.com/c/outbrain-click-prediction/download/documents_meta.csv.zip'\n",
    "    file5 = s.get(documents_meta)\n",
    "    m5 = z.ZipFile(io.BytesIO(file5.content))\n",
    "    m5.extractall(Data_dir)\n",
    "\n",
    "    documents_topics= 'https://www.kaggle.com/c/outbrain-click-prediction/download/documents_topics.csv.zip'\n",
    "    file6 = s.get(documents_topics)\n",
    "    m6 = z.ZipFile(io.BytesIO(file6.content))\n",
    "    m6.extractall(Data_dir)\n",
    "\n",
    "    events= 'https://www.kaggle.com/c/outbrain-click-prediction/download/events.csv.zip'\n",
    "    file7 = s.get(events)\n",
    "    m7 = z.ZipFile(io.BytesIO(file7.content))\n",
    "    m7.extractall(Data_dir)\n",
    "\n",
    "    page_views_sample= 'https://www.kaggle.com/c/outbrain-click-prediction/download/page_views_sample.csv.zip'\n",
    "    file8 = s.get(page_views_sample)\n",
    "    m8 = z.ZipFile(io.BytesIO(file8.content))\n",
    "    m8.extractall(Data_dir)\n",
    "\n",
    "    promoted_content= 'https://www.kaggle.com/c/outbrain-click-prediction/download/promoted_content.csv.zip'\n",
    "    file9 = s.get(promoted_content)\n",
    "    m9 = z.ZipFile(io.BytesIO(file9.content))\n",
    "    m9.extractall(Data_dir)\n",
    "\n",
    "    print(\"Download Completed.\")\n",
    "\n",
    "    \n",
    "\n",
    "    "
   ]
  },
  {
   "cell_type": "code",
   "execution_count": 79,
   "metadata": {
    "collapsed": false
   },
   "outputs": [
    {
     "name": "stdout",
     "output_type": "stream",
     "text": [
      "Creating the Data Folder after checking if it already is present and if it isnt then create one!\n",
      "Download Completed.\n"
     ]
    }
   ],
   "source": [
    "download_data()"
   ]
  },
  {
   "cell_type": "code",
   "execution_count": null,
   "metadata": {
    "collapsed": true
   },
   "outputs": [],
   "source": []
  }
 ],
 "metadata": {
  "anaconda-cloud": {},
  "kernelspec": {
   "display_name": "Python [conda root]",
   "language": "python",
   "name": "conda-root-py"
  },
  "language_info": {
   "codemirror_mode": {
    "name": "ipython",
    "version": 3
   },
   "file_extension": ".py",
   "mimetype": "text/x-python",
   "name": "python",
   "nbconvert_exporter": "python",
   "pygments_lexer": "ipython3",
   "version": "3.5.2"
  }
 },
 "nbformat": 4,
 "nbformat_minor": 2
}
