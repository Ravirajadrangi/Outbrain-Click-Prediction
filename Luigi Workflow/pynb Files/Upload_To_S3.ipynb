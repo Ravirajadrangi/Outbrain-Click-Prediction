{
 "cells": [
  {
   "cell_type": "code",
   "execution_count": 5,
   "metadata": {
    "collapsed": true
   },
   "outputs": [],
   "source": [
    "import boto\n",
    "from boto.s3.connection import S3Connection\n",
    "from boto.s3.connection import Key\n",
    "\n",
    "def uploadToS3():\n",
    "    \n",
    "    key = input(\"Enter the AWSKey:\")\n",
    "    secretkey = input(\"Enter the Secret Key:\")\n",
    "    awsKey = key  \n",
    "    awsSecret = secretkey\n",
    "    \n",
    "    bucname = input(\"Enter the bucket name:\")\n",
    "    \n",
    "    conn = S3Connection(awsKey,awsSecret)\n",
    "        #print(conn)\n",
    "    print(\"inside Upload function..\")\n",
    "        #Connecting to a bucket\n",
    "    bucket_name = bucname \n",
    "    bucket = conn.get_bucket(bucket_name)\n",
    "    print(bucket)\n",
    "        #Setting the keys\n",
    "    k = Key(bucket)\n",
    "    print (k)\n",
    "    k.key = \"XGB_File_400trees_TrainDatafinal.csv\"\n",
    "    k.set_contents_from_filename(\"XGB_File_400trees_TrainDatafinal.csv\")\n",
    "    \n",
    "    k2 = Key(bucket)\n",
    "    k2.key = \"documents_meta.csv\"\n",
    "    k2.set_contents_from_filename(\"documents_meta.csv\")\n",
    "    \n",
    "    k3 = Key(bucket)\n",
    "    k3.key = \"xgb_results.csv\"\n",
    "    k3.set_contents_from_filename(\"xgb_results.csv\")\n",
    "    \n",
    "    k4 = Key(bucket)\n",
    "    k4.key = \"xgboost.pkl\"\n",
    "    k4.set_contents_from_filename(\"xgboost.pkl\")\n",
    "    \n",
    "    print('Upload Completed..')"
   ]
  },
  {
   "cell_type": "code",
   "execution_count": null,
   "metadata": {
    "collapsed": true
   },
   "outputs": [],
   "source": []
  }
 ],
 "metadata": {
  "anaconda-cloud": {},
  "kernelspec": {
   "display_name": "Python [default]",
   "language": "python",
   "name": "python3"
  },
  "language_info": {
   "codemirror_mode": {
    "name": "ipython",
    "version": 3
   },
   "file_extension": ".py",
   "mimetype": "text/x-python",
   "name": "python",
   "nbconvert_exporter": "python",
   "pygments_lexer": "ipython3",
   "version": "3.5.2"
  }
 },
 "nbformat": 4,
 "nbformat_minor": 2
}
